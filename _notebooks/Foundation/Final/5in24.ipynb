{
 "cells": [
  {
   "cell_type": "raw",
   "metadata": {
    "vscode": {
     "languageId": "raw"
    }
   },
   "source": [
    "---\n",
    "comments: true\n",
    "layout: post\n",
    "title: 5 things in 24 Weeks\n",
    "description: Overview of 5 things that I have done in the past 24 weeks\n",
    "author: Aditya Srivastava\n",
    "permalink: /_notebooks/Foundation/Final/5in24\n",
    "---"
   ]
  },
  {
   "cell_type": "markdown",
   "metadata": {},
   "source": [
    "# Intro\n",
    "\n",
    "I have done a lot in my CS journey in the past 24 weeks. I went from not knowing how to use github to using it everyday. This notebook is going to be a display of my highlights through this journey. First we will check out a checklist I made in trimester 1, which is one of our first self grading checklists.\n"
   ]
  },
  {
   "cell_type": "markdown",
   "metadata": {},
   "source": [
    "# Self Grading Checklist - Sep 9th 2024\n",
    "This is one of the first issues I have ever made, and the reason I'm proud of it is because it was very well organized and I gave examples for every topic. This checklist paved the foundation to all my recent blogs which I am very proud of. I remember when I completed this I felt very accomplished because I had organized all my achievements into one checklist, which really demonstrated how far I had come at the time.\n",
    "\n",
    "[Here is the issue!](https://github.com/AdityaS-2010/Aditya_2025/issues/4)"
   ]
  },
  {
   "cell_type": "markdown",
   "metadata": {},
   "source": [
    "# Mathematic Expressions Lesson\n",
    "\n",
    "One of the best ways to learn something, is giving real world examples of how it applies to our lives. I used this principle to create a jupyter notebook displaying mathematical operators and how it applies to the RPG we were working on. The reason I'm proud of this is a very similar idea was used later in the platformer game, and in some people's game. In this notebook you use mathematic operators to make a button that deals damage to a monster's health, below you can view the working button notebook. You can also try solving the popcorn hack yourself with the second link!\n",
    "\n",
    "[Math notebook](https://github.com/AdityaS-2010/Aditya_2025/blob/main/_notebooks/Foundation/mathematic_expressions/impliment_in_rpg.ipynb)\n",
    "\n",
    "[Try it out yourself!](https://github.com/nighthawkcoders/portfolio_2025/blob/main/_notebooks/CSSE/Lessons/Mathematic_Expressions/2024-10-31-impliment_in_rpg.ipynb)"
   ]
  },
  {
   "cell_type": "markdown",
   "metadata": {},
   "source": [
    "# 8 Blogs\n",
    "\n",
    "Blogs are a great way to display your progress along with describing how you completed a task. It can give the reader a better understanding of how the developer created something. Another use of blogs is to show completion and understanding of a topic, which is how I used them. Below I made 8 blogs covering different aspects of JavaScript along with software developing skills that I learnt over the past 24 weeks. \n",
    "\n",
    "[Blogs Folder](https://github.com/AdityaS-2010/Aditya_2025/tree/main/_notebooks/Foundation/Final/PBL_Blogs)"
   ]
  },
  {
   "cell_type": "markdown",
   "metadata": {},
   "source": [
    "# Sprint 6 Checklist\n",
    "\n",
    "Checklists are a great way of staying on track, like the first checklist I displayed shows. They give you an idea of how much work you've done and how much more is left to complete. The reason I wanted to show this checklist specifically is because this is the grandest checklist I've made. The most organized and indepth one I've made in the past 24 weeks. This is the checklist is the reason I included the first checklist in the beginning of this blog. If you compare the two, you'll see similarities in the structure. However this checklist covers much more. This checklist is very important because it kept me on track to complete everything I'd need for my 8 blogs which I mentioned before. \n",
    "\n",
    "[Check out the Checklist!](https://github.com/AdityaS-2010/Aditya_2025/issues/12)"
   ]
  },
  {
   "cell_type": "markdown",
   "metadata": {},
   "source": [
    "# RPG Burn Down Issue\n",
    "\n",
    "\n",
    "Burndowns, similarly to checklists help you stay on task giving you a set goal to work on in a given time period. I used one for developing my rpg game and it greatly helped me stay on task. It gave me a clear path on what I need to complete and helped me keep up. With it I was able to add multiple features. However that's not the only reason I included it here, I included it because I described the process for each change similarly to a blog. However I made a proper blog for my latest game change in this final folder for organization.\n",
    "\n",
    "\n",
    "[Heres the Burndown](https://github.com/AdityaS-2010/Aditya_2025/issues/17)\n"
   ]
  }
 ],
 "metadata": {
  "language_info": {
   "name": "python"
  }
 },
 "nbformat": 4,
 "nbformat_minor": 2
}
