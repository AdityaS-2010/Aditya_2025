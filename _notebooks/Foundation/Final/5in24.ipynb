{
 "cells": [
  {
   "cell_type": "raw",
   "metadata": {
    "vscode": {
     "languageId": "raw"
    }
   },
   "source": [
    "---\n",
    "comments: true\n",
    "layout: post\n",
    "title: 5 things in 24 Weeks\n",
    "description: Overview of 5 things that I have done in the past 24 weeks\n",
    "author: Aditya Srivastava\n",
    "permalink: /_notebooks/Foundation/Final/5in24\n",
    "---"
   ]
  },
  {
   "cell_type": "markdown",
   "metadata": {},
   "source": [
    "# Intro\n",
    "\n",
    "I have done a lot in my CS journey in the past 24 weeks. I went from not knowing how to use github to using it everyday. This notebook is going to be a display of my highlights through this journey. First we will check out a checklist I made in trimester 1, which is one of our first self grading checklists.\n"
   ]
  },
  {
   "cell_type": "markdown",
   "metadata": {},
   "source": [
    "# Self Grading Checklist - Sep 9th 2024\n",
    "This is one of the first issues I have ever made, and the reason I'm proud of it is because it was very well organized and I gave examples for every topic. This checklist paved the foundation to all my recent blogs which I am very proud of. I remember when I completed this I felt very accomplished because I had organized all my achievements into one checklist, which really demonstrated how far I had come at the time.\n",
    "\n",
    "[Here is the issue!](https://github.com/AdityaS-2010/Aditya_2025/issues/4)"
   ]
  },
  {
   "cell_type": "markdown",
   "metadata": {},
   "source": [
    "Mathematic"
   ]
  }
 ],
 "metadata": {
  "language_info": {
   "name": "python"
  }
 },
 "nbformat": 4,
 "nbformat_minor": 2
}
