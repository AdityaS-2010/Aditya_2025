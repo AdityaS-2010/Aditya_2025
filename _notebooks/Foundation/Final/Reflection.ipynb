{
 "cells": [
  {
   "cell_type": "raw",
   "metadata": {
    "vscode": {
     "languageId": "raw"
    }
   },
   "source": [
    "---\n",
    "comments: true\n",
    "layout: post\n",
    "title: Game Reflection\n",
    "description: Reflection of my game\n",
    "author: Aditya Srivastava\n",
    "permalink: /_notebooks/Foundation/Final/Reflection\n",
    "---"
   ]
  },
  {
   "cell_type": "markdown",
   "metadata": {},
   "source": [
    "# Reflection On Project\n",
    "\n",
    "With the limited time given, I haven't been able to complete everything I wanted. However I do have a plan. If I had more time I want to add the trees to all 3 levels along with some restrictions in each level. The idea is that you have to interact with an NPC and tell it to chop down the tree to exit the level, or else you will not be able to exit. My plan is to use logic from GameControl.js and edit it so that a certain condition has to be met to leave the levels. That condition being chopping down the tree. I think some strengths in the game is the Tree's versatility and the fact that it's as easy as pasting the code into another level and importing Tree.js to add this feature to another level. However there are some weaknesses such as how the tree is set up. Certain edits to Tree.js can lead to the whole level not working if it's imported into a level. Currently it only affects levels it's imported in."
   ]
  },
  {
   "cell_type": "markdown",
   "metadata": {},
   "source": [
    "# What I want to do in CompSci \n",
    "\n",
    "Computer Science is a ever growing industry and I want to part of it. Currently my goal is to join UCSD. UCSD is working in AI and advancing how the world uses AI. They have a new course and degree in AI Development which I think is a cool career which has room for a lot of growth. I think getting into it while it's still developing would be very useful for me in the future so I want to build my knowledge in computer science to be join this race in AI development"
   ]
  }
 ],
 "metadata": {
  "language_info": {
   "name": "python"
  }
 },
 "nbformat": 4,
 "nbformat_minor": 2
}
