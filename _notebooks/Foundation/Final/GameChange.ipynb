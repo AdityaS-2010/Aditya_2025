{
 "cells": [
  {
   "cell_type": "raw",
   "metadata": {},
   "source": [
    "---\n",
    "comments: true\n",
    "layout: post\n",
    "title: Latest Game Feature\n",
    "description: Blog of my Latest Game addition\n",
    "author: Aditya Srivastava\n",
    "permalink: /_notebooks/Foundation/Final/GameChange\n",
    "---"
   ]
  },
  {
   "cell_type": "markdown",
   "metadata": {},
   "source": [
    "# Tree.js\n",
    "\n",
    "Over the past couple of weeks, I've been working on a class that inherits the Character class. It is used in the 3rd level of my game \"Jungle\" where an interaction with the lumberjack npc triggers a chopping animation. Below is the process on how I made this file and implimented it into the level."
   ]
  },
  {
   "cell_type": "markdown",
   "metadata": {},
   "source": [
    "### Tree Class Implementation:\n",
    "The Tree class extends the Character class, inheriting its properties and methods. We start by defining the basic properties of the tree \n",
    "\n",
    "![Image](https://github.com/user-attachments/assets/2a833163-99e7-4f8b-9446-d2f23113950d)\n",
    "\n",
    "### Handling the Tree Chopping:\n",
    "The \"chopTree\" method is responsible for handling the chopping of the tree. When this method is called, it updates the tree's state to \"isChopped\", resets the frame index and counter, and switches the visible canvas from the idle canvas to the chop canvas.\n",
    "\n",
    "![Image](https://github.com/user-attachments/assets/6cc0398c-5406-4053-b8cf-3c3f38582bb2)\n",
    "\n",
    "### Drawing the Tree:\n",
    "The draw method is responsible for rendering the tree on the canvas. It calculates the frame position in the sprite sheet based on the current state (idle or chopped) and draws the appropriate frame on the corresponding canvas.\n",
    "\n",
    "![Image](https://github.com/user-attachments/assets/cb1b7442-78d3-4a7d-8916-4d4eb15fc962)\n",
    "\n",
    "### Updating the Tree:\n",
    "The update method is called to update the tree's state. It calls the draw method to render the tree based on its current state.\n",
    "\n",
    "![Image](https://github.com/user-attachments/assets/e31abec3-f7f3-4655-94ba-8f23ab263406)\n",
    "\n",
    "### Integrating the Tree into gameleveljungle.js:\n",
    "The tree is initialized with its properties, including the sprite image, scale factor, animation rate, and initial position.\n",
    "\n",
    "![Image](https://github.com/user-attachments/assets/182352fe-9c6d-4e2c-808f-1a6eaa3602ba)\n",
    "\n",
    "### Handling Interactions:\n",
    "The \"handleLumberjackQuiz\" method handles the interaction with the lumberjack. When the player presses the 'e' or 'u' key, the quiz is triggered. If the player answers \"yes,\" the tree is chopped down.\n",
    "\n",
    "![Image](https://github.com/user-attachments/assets/9aecf981-ab75-4c09-8795-36c422a23064)\n",
    "\n",
    "## Diagram\n",
    "\n",
    "A visualization of how all these files work together would help us understand how this feature is set up\n",
    "\n",
    "![Image](https://github.com/user-attachments/assets/542401d9-607a-43d0-adf4-af28820af01a)\n",
    "## Conclusion:\n",
    "By managing the tree's state and handling the chopping animation, we create a more interactive gameplay experience. The Tree class and GameLevelJungle.js file work together to ensure seamless interactions and animations.\n"
   ]
  }
 ],
 "metadata": {
  "language_info": {
   "name": "python"
  }
 },
 "nbformat": 4,
 "nbformat_minor": 2
}
