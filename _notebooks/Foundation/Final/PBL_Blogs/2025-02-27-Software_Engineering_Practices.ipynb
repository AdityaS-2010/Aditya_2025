{
 "cells": [
  {
   "cell_type": "code",
   "execution_count": null,
   "metadata": {
    "vscode": {
     "languageId": "yaml"
    }
   },
   "outputs": [],
   "source": [
    "---\n",
    "comments: true\n",
    "layout: post\n",
    "title: Software Engineering Practices\n",
    "description: Planning changes, checklists, burndowns, coding with comments, building Development Help documentation,  building a lesson.\n",
    "author: Aditya Srivastava\n",
    "permalink: /_notebooks/Foundation/Software_Engineering_Practices/\n",
    "categories: [Final]\n",
    "---"
   ]
  },
  {
   "cell_type": "markdown",
   "metadata": {},
   "source": [
    "# Planning Changes\n",
    "\n",
    "Planning changes is crucial for ensuring that development efforts are aligned with project goals and timelines. It helps in identifying potential risks and dependencies early on, allowing for better resource allocation and prioritization.\n",
    "\n",
    "**Example:**\n",
    "Here is a link to a issue I made showing how I planned fixing a sprite issue with the platformer game\n",
    "\n",
    "[Go to Planning Changes](https://github.com/AdityaS-2010/Aditya_2025/issues/13)"
   ]
  },
  {
   "cell_type": "markdown",
   "metadata": {},
   "source": [
    "# Checklists\n",
    "\n",
    "Checklists are important for keeping track of tasks and ensuring that nothing is overlooked during the development process. They help maintain consistency and quality by providing a clear set of criteria to be met.\n",
    "\n",
    "**Example:**\n",
    "Here is a checklist I made covering everything I did in the second trimester in CSSE!\n",
    "\n",
    "[Go to Checklist](https://github.com/AdityaS-2010/Aditya_2025/issues/12)"
   ]
  },
  {
   "cell_type": "markdown",
   "metadata": {},
   "source": [
    "# Burndowns\n",
    "\n",
    "Burndown charts are used to visualize the progress of a project over time. They help in tracking the completion of tasks against the project timeline, making it easier to identify any deviations from the plan and take corrective actions.\n",
    "\n",
    "**Example:**\n",
    "Burndown lists helped keep me on track throughout the month we spent editing the RPG game. Here it is below!\n",
    "\n",
    "[Burndown List](https://github.com/AdityaS-2010/Aditya_2025/issues/17)"
   ]
  },
  {
   "cell_type": "markdown",
   "metadata": {},
   "source": [
    "# Coding with Comments\n",
    "\n",
    "Adding comments to code is essential for maintaining readability and understanding. Comments provide context and explanations for complex logic, making it easier for other developers (and your future self) to understand and maintain the code.\n",
    "\n",
    "**Example:** \n",
    "\n",
    "Below is a codecell showing some well commented code explaining how the lumberjack question function works in my rpg game"
   ]
  },
  {
   "cell_type": "code",
   "execution_count": null,
   "metadata": {
    "vscode": {
     "languageId": "javascript"
    }
   },
   "outputs": [],
   "source": [
    "handleLumberjackQuiz(event) {\n",
    "    if (event.key === 'e' || event.key === 'u') {\n",
    "        // Find the lumberjack object from the list of objects\n",
    "        const lumberjack = this.objects.find(obj => obj.data.id === 'Lumberjack');\n",
    "        // Find the tree instance from GameEnv.gameObjects\n",
    "        const tree = GameEnv.gameObjects.find(obj => obj instanceof Tree);\n",
    "        \n",
    "        if (lumberjack && tree) {\n",
    "            // Get the quiz question from the lumberjack's data\n",
    "            const question = lumberjack.data.quiz.questions[0];\n",
    "            // Prompt the player with the quiz question and get their answer\n",
    "            const answer = prompt(`${lumberjack.data.quiz.title}\\n${question}`);\n",
    "            if (answer === '1') {\n",
    "                // If the player answers \"1\", chop the tree\n",
    "                alert(\"The tree was chopped down!\");\n",
    "                tree.chopTree();  // Call chopTree on the actual tree instance\n",
    "            } else if (answer === '2') {\n",
    "                // If the player answers \"2\", do not chop the tree\n",
    "                alert(\"The tree was not chopped down.\");\n",
    "            } else {\n",
    "                // If the player provides an invalid response, show an error message\n",
    "                alert(\"Invalid response. Please answer with 1 or 2.\");\n",
    "            }\n",
    "        }\n",
    "    }\n",
    "}"
   ]
  },
  {
   "cell_type": "markdown",
   "metadata": {},
   "source": [
    "# Building Development Help Documentation\n",
    "\n",
    "Development help documentation is vital for providing guidance and support to developers. It includes instructions, best practices, and troubleshooting tips, which help in reducing onboarding time and improving overall productivity.\n",
    "\n",
    "**Example:**\n",
    "I have created a help system for the Platformer game which can be found here:  \n",
    "\n",
    "[Help Documentation](https://nighthawkcoders.github.io/platformer4x/help-system/player/animation)"
   ]
  },
  {
   "cell_type": "markdown",
   "metadata": {},
   "source": [
    "# Building a Lesson\n",
    "\n",
    "Creating lessons is important for knowledge sharing and skill development within the team. Lessons help in standardizing practices and ensuring that all team members are equipped with the necessary knowledge to perform their tasks effectively.\n",
    "\n",
    "**Example:**\n",
    "\n",
    "I created a lesson on how we could use mathematical operators in our personal rpg. Check it out!\n",
    "\n",
    "[Lesson Notebook](https://github.com/AdityaS-2010/Aditya_2025/blob/main/_notebooks/Foundation/mathematic_expressions/impliment_in_rpg.ipynb)"
   ]
  }
 ],
 "metadata": {
  "language_info": {
   "name": "python"
  }
 },
 "nbformat": 4,
 "nbformat_minor": 2
}
