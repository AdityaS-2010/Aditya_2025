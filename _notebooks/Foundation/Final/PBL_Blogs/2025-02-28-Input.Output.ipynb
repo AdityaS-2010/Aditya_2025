{
 "cells": [
  {
   "cell_type": "code",
   "execution_count": null,
   "metadata": {
    "vscode": {
     "languageId": "yaml"
    }
   },
   "outputs": [],
   "source": [
    "---\n",
    "comments: true\n",
    "layout: post\n",
    "title: Input and Output\n",
    "description: HTML5 input, validation, Document Object Model (DOM)\n",
    "author: Aditya Srivastava\n",
    "permalink: /_notebooks/Foundation/Input.Output/\n",
    "categories: [PBL]\n",
    "---"
   ]
  },
  {
   "cell_type": "markdown",
   "metadata": {},
   "source": [
    "## Validation\n",
    "\n",
    "HTML5 provides built-in form validation features that help ensure users enter the correct data before submitting a form. These features include required fields, pattern matching, and specific input types. The `required` attribute can be used to make a field mandatory, while the `pattern` attribute allows for custom regular expressions to validate input.\n",
    "\n",
    "### Example:\n",
    "Here is an example of the lumberjack question requiring specific input types which is an example of validation"
   ]
  },
  {
   "cell_type": "code",
   "execution_count": null,
   "metadata": {
    "vscode": {
     "languageId": "javascript"
    }
   },
   "outputs": [],
   "source": [
    "if (lumberjack && tree) {\n",
    "    // Get the quiz question from the lumberjack's data\n",
    "    const question = lumberjack.data.quiz.questions[0];\n",
    "    // Prompt the player with the quiz question and get their answer\n",
    "    const answer = prompt(`${lumberjack.data.quiz.title}\\n${question}`);\n",
    "    if (answer === '1') {\n",
    "        // If the player answers \"1\", chop the tree\n",
    "        alert(\"The tree was chopped down!\");\n",
    "        tree.chopTree();  // Call chopTree on the actual tree instance\n",
    "    } else if (answer === '2') {\n",
    "        // If the player answers \"2\", do not chop the tree\n",
    "        alert(\"The tree was not chopped down.\");\n",
    "    } else {\n",
    "        // If the player provides an invalid response, show an error message\n",
    "        alert(\"Invalid response. Please answer with 1 or 2.\");\n",
    "    }\n",
    "}"
   ]
  },
  {
   "cell_type": "markdown",
   "metadata": {},
   "source": [
    "## Document Object Model (DOM)\n",
    "\n",
    "The Document Object Model (DOM) is a programming interface for web documents. It represents the structure of a document as a tree of objects, allowing developers to manipulate the content, structure, and style of a webpage using JavaScript. The DOM provides methods to access and update elements, attributes, and text within the document.\n",
    "\n",
    "### Example:\n",
    "The code updates the canvas rendering, which is part of DOM manipulation"
   ]
  },
  {
   "cell_type": "code",
   "execution_count": null,
   "metadata": {
    "vscode": {
     "languageId": "javascript"
    }
   },
   "outputs": [],
   "source": [
    "const frameWidth = this.spriteData.pixels.width / this.spriteData.orientation.columns;\n",
    "        const frameHeight = this.spriteData.pixels.height / this.spriteData.orientation.rows;\n",
    "        const frameX = this.idleFrameIndex * frameWidth;\n",
    "        const frameY = this.spriteData.idle.row * frameHeight;\n",
    "\n",
    "        this.ctx.clearRect(0, 0, this.canvas.width, this.canvas.height);\n",
    "        this.ctx.drawImage("
   ]
  },
  {
   "cell_type": "markdown",
   "metadata": {},
   "source": [
    "## HTML5 Input\n",
    "\n",
    "HTML5 introduced new input types that enhance the user experience and provide better data validation. These new input types include `email`, `url`, `number`, `range`, `date`, `time`, `color`, and more. They allow for more specific data entry and can trigger different input methods on mobile devices.\n",
    "\n",
    "### Example:"
   ]
  }
 ],
 "metadata": {
  "language_info": {
   "name": "python"
  }
 },
 "nbformat": 4,
 "nbformat_minor": 2
}
