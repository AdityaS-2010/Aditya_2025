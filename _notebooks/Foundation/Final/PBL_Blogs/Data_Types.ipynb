{
 "cells": [
  {
   "cell_type": "raw",
   "metadata": {
    "vscode": {
     "languageId": "raw"
    }
   },
   "source": [
    "---\n",
    "comments: true\n",
    "layout: post\n",
    "title: Data Types\n",
    "description: Numbers, strings, booleans, arrays, JSON object\n",
    "author: Aditya Srivastava\n",
    "permalink: /_notebooks/Foundation/Data_Types/\n",
    "categories: [PBL Data Types]\n",
    "---"
   ]
  },
  {
   "cell_type": "markdown",
   "metadata": {},
   "source": [
    "# Numbers\n",
    "\n",
    "Numbers are a fundamental data type used to represent numerical values. They can be integers, floating-point numbers, or even special values like `NaN` (Not a Number) and `Infinity`. Numbers are used in arithmetic operations, comparisons, and other mathematical computations.\n",
    "\n",
    "**Example:**\n",
    "\n",
    "I used numbers to define a lot of things such as dimensions, positions, and animation rates. Below is a snippet from the Jungle Level's file showing the properties of the Explorer"
   ]
  },
  {
   "cell_type": "code",
   "execution_count": null,
   "metadata": {
    "vscode": {
     "languageId": "javascript"
    }
   },
   "outputs": [],
   "source": [
    "const EXPLORER_SCALE_FACTOR = 3;\n",
    "const sprite_data_explorer = {\n",
    "    SCALE_FACTOR: EXPLORER_SCALE_FACTOR,\n",
    "    STEP_FACTOR: 1000,\n",
    "    ANIMATION_RATE: 20,\n",
    "    INIT_POSITION: { x: 0, y: height - (height / EXPLORER_SCALE_FACTOR) },\n",
    "    pixels: { height: 3456, width: 832 },\n",
    "    orientation: { rows: 54, columns: 13 },\n",
    "    idle: { row: 6, start: 0, columns: 7 },\n",
    "    down: { row: 10, start: 0, columns: 8 },\n",
    "    left: { row: 9, start: 0, columns: 8 },\n",
    "    right: { row: 11, start: 0, columns: 8 },\n",
    "    up: { row: 8, start: 0, columns: 8 }\n",
    "};"
   ]
  },
  {
   "cell_type": "markdown",
   "metadata": {},
   "source": [
    "# Strings\n",
    "\n",
    "Strings are sequences of characters used to represent text. They are enclosed in single quotes (`'`), double quotes (`\"`), or backticks (`` ` ``) in JavaScript. Strings are used for storing and manipulating text, and they come with various methods for operations like concatenation, slicing, and searching.\n",
    "\n",
    "**Example:**\n",
    "Here I used strings for texts such as greetings. Here is the Lumberjack's greeting using strings (everything in orange is string)."
   ]
  },
  {
   "cell_type": "code",
   "execution_count": null,
   "metadata": {
    "vscode": {
     "languageId": "javascript"
    }
   },
   "outputs": [],
   "source": [
    "const sprite_src_lumberjack = path + \"/images/gamify/lumberjack.png\";\n",
    "const LUMBERJACK_SCALE_FACTOR = 2.8;\n",
    "const sprite_data_lumberjack = {\n",
    "    id: 'Lumberjack',\n",
    "    greeting: \"Hi I am Lumberjack, I love chopping wood and exploring the jungle!\","
   ]
  },
  {
   "cell_type": "markdown",
   "metadata": {},
   "source": [
    "# Booleans\n",
    "\n",
    "Booleans are a data type that can hold one of two values: `true` or `false`. They are used in conditional statements and logical operations to represent truthy or falsy values. Booleans are essential for controlling the flow of a program and making decisions.\n",
    "\n",
    "**Example:**"
   ]
  },
  {
   "cell_type": "code",
   "execution_count": null,
   "metadata": {
    "vscode": {
     "languageId": "javascript"
    }
   },
   "outputs": [],
   "source": [
    "class Tree extends Character {\n",
    "    constructor(data) {\n",
    "        super(data);\n",
    "        this.isChopped = false;\n",
    "    }\n",
    "\n",
    "    chopTree() {\n",
    "        if (!this.isChopped) {\n",
    "            this.isChopped = true;\n",
    "            // Additional logic for chopping the tree\n",
    "        }\n",
    "    }\n",
    "}"
   ]
  },
  {
   "cell_type": "markdown",
   "metadata": {},
   "source": [
    "# Arrays\n",
    "\n",
    "Arrays are ordered collections of elements, which can be of any data type. They are used to store multiple values in a single variable and provide various methods for adding, removing, and manipulating elements. Arrays are indexed, with the first element having an index of 0.\n",
    "\n",
    "**Example:**"
   ]
  },
  {
   "cell_type": "code",
   "execution_count": null,
   "metadata": {
    "vscode": {
     "languageId": "javascript"
    }
   },
   "outputs": [],
   "source": [
    "this.objects = [\n",
    "    { class: Background, data: image_data_jungle },\n",
    "    { class: Player, data: sprite_data_explorer },\n",
    "    { class: Npc, data: sprite_data_lumberjack },\n",
    "    { class: Tree, data: sprite_data_tree }\n",
    "];"
   ]
  },
  {
   "cell_type": "markdown",
   "metadata": {},
   "source": [
    "# JSON Objects\n",
    "\n",
    "JSON (JavaScript Object Notation) objects are used to represent structured data as key-value pairs. They are commonly used for data interchange between a server and a client. JSON objects are similar to JavaScript objects but follow a specific syntax that makes them easy to parse and generate.\n",
    "\n",
    "**Example:**"
   ]
  },
  {
   "cell_type": "code",
   "execution_count": null,
   "metadata": {
    "vscode": {
     "languageId": "javascript"
    }
   },
   "outputs": [],
   "source": [
    "const sprite_data_tree = {\n",
    "    id: 'Tree',\n",
    "    greeting: \"I am a tree.\",\n",
    "    src: sprite_src_tree,\n",
    "    SCALE_FACTOR: TREE_SCALE_FACTOR,\n",
    "    STEP_FACTOR: 1000,\n",
    "    ANIMATION_RATE: 20,\n",
    "    INIT_POSITION: { x: width / 2, y: height - (height / TREE_SCALE_FACTOR) },\n",
    "    pixels: { height: 507, width: 492 },\n",
    "    orientation: { rows: 2, columns: 3 },\n",
    "    idle: { row: 0, start: 0, columns: 3 },\n",
    "    chop: { row: 1, start: 0, columns: 2 },\n",
    "    hitbox: { widthPercentage: 0.45, heightPercentage: 0.2 }\n",
    "};"
   ]
  }
 ],
 "metadata": {
  "language_info": {
   "name": "python"
  }
 },
 "nbformat": 4,
 "nbformat_minor": 2
}
