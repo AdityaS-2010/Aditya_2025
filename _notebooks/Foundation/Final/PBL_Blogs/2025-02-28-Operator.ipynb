{
 "cells": [
  {
   "cell_type": "code",
   "execution_count": null,
   "metadata": {
    "vscode": {
     "languageId": "yaml"
    }
   },
   "outputs": [],
   "source": [
    "---\n",
    "comments: true\n",
    "layout: post\n",
    "title: Data Types\n",
    "description: String operations, mathematical operations, boolean expressions\n",
    "author: Aditya Srivastava\n",
    "permalink: /_notebooks/Foundation/Operator/\n",
    "categories: [Basics of JavaScript]\n",
    "---"
   ]
  },
  {
   "cell_type": "markdown",
   "metadata": {},
   "source": [
    "# String Operations\n",
    "\n",
    "String operations are methods and techniques used to manipulate and work with strings. Common string operations include concatenation, slicing, finding substrings, and replacing parts of a string. These operations are essential for handling and processing text data.\n",
    "\n",
    "**Example:**"
   ]
  },
  {
   "cell_type": "code",
   "execution_count": null,
   "metadata": {
    "vscode": {
     "languageId": "javascript"
    }
   },
   "outputs": [],
   "source": [
    "const sprite_src_explorer = path + \"/images/gamify/explorer.png\";\n",
    "const sprite_data_explorer = {\n",
    "    id: 'Explorer',\n",
    "    greeting: \"Hi I am Matt, I love exploring the jungle and a great adventure!\",\n",
    "    src: sprite_src_explorer\n",
    "};"
   ]
  },
  {
   "cell_type": "markdown",
   "metadata": {},
   "source": [
    "# Explanation:\n",
    "\"sprite_src_explorer\" concatenates the path variable with a string to make the file for the explorer's sprite image"
   ]
  },
  {
   "cell_type": "markdown",
   "metadata": {},
   "source": [
    "# Mathematical Operations\n",
    "\n",
    "Mathematical operations are used to perform arithmetic calculations on numbers. Common operations include addition, subtraction, multiplication, division, and modulus. These operations are fundamental for performing calculations and manipulating numerical data.\n",
    "\n",
    "**Example:**"
   ]
  },
  {
   "cell_type": "code",
   "execution_count": null,
   "metadata": {
    "vscode": {
     "languageId": "javascript"
    }
   },
   "outputs": [],
   "source": [
    "const EXPLORER_SCALE_FACTOR = 3;\n",
    "const sprite_data_explorer = {\n",
    "    INIT_POSITION: { x: 0, y: height - (height / EXPLORER_SCALE_FACTOR) },\n",
    "    pixels: { height: 3456, width: 832 }\n",
    "};"
   ]
  },
  {
   "cell_type": "markdown",
   "metadata": {},
   "source": [
    "# Explanation\n",
    "\n",
    "The \"INIT_POSITION\" property uses math operators to determine the initial position of the explorer. It does this by using division (/) and subtraction (-)."
   ]
  },
  {
   "cell_type": "markdown",
   "metadata": {},
   "source": [
    "# Boolean Expressions\n",
    "\n",
    "Boolean expressions are logical statements that evaluate to either `true` or `false`. They are used in conditional statements and loops to control the flow of a program. Common boolean expressions include comparisons (e.g., `==`, `!=`, `>`, `<`) and logical operations (e.g., `&&`, `||`, `!`).\n",
    "\n",
    "**Example:**"
   ]
  },
  {
   "cell_type": "code",
   "execution_count": null,
   "metadata": {
    "vscode": {
     "languageId": "javascript"
    }
   },
   "outputs": [],
   "source": [
    "class Tree extends Character {\n",
    "    constructor(data) {\n",
    "        super(data);\n",
    "        this.isChopped = false;\n",
    "    }\n",
    "\n",
    "    chopTree() {\n",
    "        if (!this.isChopped) {\n",
    "            this.isChopped = true;\n",
    "            // Additional logic for chopping the tree\n",
    "        }\n",
    "    }\n",
    "}"
   ]
  },
  {
   "cell_type": "markdown",
   "metadata": {},
   "source": [
    "# Explanation\n",
    "\n",
    "The \"chopTree\" method uses a boolean expression to check if the tree has already been chopped (if(!this.isChopped)). If it isn't chopped then it's set to false."
   ]
  }
 ],
 "metadata": {
  "language_info": {
   "name": "python"
  }
 },
 "nbformat": 4,
 "nbformat_minor": 2
}
