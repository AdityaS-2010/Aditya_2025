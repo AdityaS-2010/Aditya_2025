{
 "cells": [
  {
   "cell_type": "code",
   "execution_count": null,
   "metadata": {
    "vscode": {
     "languageId": "yaml"
    }
   },
   "outputs": [],
   "source": [
    "---\n",
    "comments: true\n",
    "layout: post\n",
    "title: Control Structures\n",
    "description: Iteration, Conditions, Nested Conditions\n",
    "author: Aditya Srivastava\n",
    "permalink: /_notebooks/Foundation/Control_Structures/\n",
    "categories: [Basics of JavaScript]\n",
    "---"
   ]
  },
  {
   "cell_type": "markdown",
   "metadata": {},
   "source": [
    "# Iteration\n",
    "\n",
    "Iteration refers to the process of repeating a set of instructions or operations in a sequence. It is commonly used in loops to execute a block of code multiple times until a certain condition is met. Iterations are fundamental in programming as they allow for the efficient execution of repetitive tasks.\n",
    "\n",
    "**Example:**\n",
    "\n",
    "Below is a snippet from my Jungle Level file showing some use of iteration"
   ]
  },
  {
   "cell_type": "code",
   "execution_count": null,
   "metadata": {
    "vscode": {
     "languageId": "javascript"
    }
   },
   "outputs": [],
   "source": [
    "handleLumberjackQuiz(event) {\n",
    "    if (event.key === 'e' || event.key === 'u') {\n",
    "        // Find the lumberjack object from the list of objects\n",
    "        const lumberjack = this.objects.find(obj => obj.data.id === 'Lumberjack');\n",
    "        // Find the tree instance from GameEnv.gameObjects\n",
    "        const tree = GameEnv.gameObjects.find(obj => obj instanceof Tree);\n",
    "        \n",
    "        if (lumberjack && tree) {\n",
    "            // Get the quiz question from the lumberjack's data\n",
    "            const question = lumberjack.data.quiz.questions[0];\n",
    "            // Prompt the player with the quiz question and get their answer\n",
    "            const answer = prompt(`${lumberjack.data.quiz.title}\\n${question}`);\n",
    "            if (answer === '1') {\n",
    "                // If the player answers \"1\", chop the tree\n",
    "                alert(\"The tree was chopped down!\");\n",
    "                tree.chopTree();  // Call chopTree on the actual tree instance\n",
    "            } else if (answer === '2') {\n",
    "                // If the player answers \"2\", do not chop the tree\n",
    "                alert(\"The tree was not chopped down.\");\n",
    "            } else {\n",
    "                // If the player provides an invalid response, show an error message\n",
    "                alert(\"Invalid response. Please answer with 1 or 2.\");\n",
    "            }\n",
    "        }\n",
    "    }\n",
    "}"
   ]
  },
  {
   "cell_type": "markdown",
   "metadata": {},
   "source": [
    "# Explanation\n",
    "\n",
    "Here, the find method is used to iterate through the this.objects array to find the lumberjack object and through the GameEnv.gameObjects array to find the tree instance. (Third and Fourth line)"
   ]
  },
  {
   "cell_type": "markdown",
   "metadata": {},
   "source": [
    "# Conditions\n",
    "\n",
    "Conditions are used to perform different actions based on whether a specified condition is true or false. They are essential for controlling the flow of a program and making decisions. Conditional statements include `if`, `else if`, and `else`.\n",
    "\n",
    "**Example:**\n",
    "I used a lot of conditions in my code, one instance is in my Tree class to handle the tree chopping and drawing."
   ]
  },
  {
   "cell_type": "code",
   "execution_count": null,
   "metadata": {
    "vscode": {
     "languageId": "javascript"
    }
   },
   "outputs": [],
   "source": [
    "class Tree extends Character {\n",
    "    constructor(data) {\n",
    "        super(data);\n",
    "        \n",
    "        // Basic properties\n",
    "        this.isChopped = false;\n",
    "        this.frameIndex = 0;\n",
    "        this.frameCounter = 0;\n",
    "        this.spriteData = data;\n",
    "    }\n",
    "\n",
    "    // Handle tree chopping\n",
    "    chopTree() {\n",
    "        if (!this.isChopped) {\n",
    "            this.isChopped = true;\n",
    "            this.frameIndex = 0;\n",
    "            this.frameCounter = 0;\n",
    "            \n",
    "            // Hide idle canvas and show chop canvas\n",
    "            this.idleCanvas.style.display = 'none';\n",
    "            this.chopCanvas.style.display = 'block';\n",
    "        }\n",
    "    }\n",
    "\n",
    "    // Draw the tree\n",
    "    draw() {\n",
    "        if (this.spriteSheet && this.spriteSheet.complete) {\n",
    "            const frameWidth = this.spriteData.pixels.width / this.spriteData.orientation.columns;\n",
    "            const frameHeight = this.spriteData.pixels.height / this.spriteData.orientation.rows;\n",
    "\n",
    "            // Get animation data\n",
    "            const animationData = this.isChopped ? this.spriteData.chop : this.spriteData.idle;\n",
    "            \n",
    "            // Calculate position in sprite sheet\n",
    "            const frameX = (animationData.start + this.frameIndex) * frameWidth;\n",
    "            const frameY = animationData.row * frameHeight;\n",
    "\n",
    "            // Clear and draw on appropriate canvas\n",
    "            const currentCanvas = this.isChopped ? this.chopCanvas : this.idleCanvas;\n",
    "            const currentCtx = this.isChopped ? this.chopCtx : this.ctx;\n",
    "            \n",
    "            currentCtx.clearRect(0, 0, currentCanvas.width, currentCanvas.height);\n",
    "            currentCtx.drawImage(\n",
    "                this.spriteSheet,\n",
    "                frameX, frameY, frameWidth, frameHeight,\n",
    "                0, 0, currentCanvas.width, currentCanvas.height\n",
    "            );\n",
    "\n",
    "            // Update animation frame based on animation rate from sprite data\n",
    "            this.frameCounter++;\n",
    "            if (this.frameCounter >= this.spriteData.ANIMATION_RATE) {\n",
    "                if (this.isChopped) {\n",
    "                    this.frameIndex = Math.min(this.frameIndex + 1, animationData.columns - 1);\n",
    "                } else {\n",
    "                    this.frameIndex = (this.frameIndex + 1) % animationData.columns;\n",
    "                }\n",
    "                this.frameCounter = 0;\n",
    "            }\n",
    "        }\n",
    "    }\n",
    "\n",
    "    update() {\n",
    "        this.draw();\n",
    "    }\n",
    "}\n",
    "\n",
    "export default Tree;"
   ]
  },
  {
   "cell_type": "markdown",
   "metadata": {},
   "source": [
    "# Explanation\n",
    "\n",
    "\"if (!this.isChopped)\" is an example which is checking if the Tree is chopped. Another example of conditions in the Tree.js file is \"if (this.spriteSheet && this.spriteSheet.complete)\""
   ]
  },
  {
   "cell_type": "markdown",
   "metadata": {},
   "source": [
    "# Nested Conditions\n",
    "\n",
    "Nested conditions involve placing one conditional statement inside another. This allows for more complex decision-making processes by evaluating multiple conditions in a hierarchical manner. Nested conditions are useful for handling scenarios where multiple criteria need to be checked.\n",
    "\n",
    "**Example:**\n",
    "\n",
    "The tree class also uses Nested conditionals to update the tree's animation. Here is an example:"
   ]
  },
  {
   "cell_type": "code",
   "execution_count": null,
   "metadata": {
    "vscode": {
     "languageId": "javascript"
    }
   },
   "outputs": [],
   "source": [
    "draw() {\n",
    "    if (this.spriteSheet && this.spriteSheet.complete) {\n",
    "        const frameWidth = this.spriteData.pixels.width / this.spriteData.orientation.columns;\n",
    "        const frameHeight = this.spriteData.pixels.height / this.spriteData.orientation.rows;\n",
    "\n",
    "        // Get animation data\n",
    "        const animationData = this.isChopped ? this.spriteData.chop : this.spriteData.idle;\n",
    "        \n",
    "        // Calculate position in sprite sheet\n",
    "        const frameX = (animationData.start + this.frameIndex) * frameWidth;\n",
    "        const frameY = animationData.row * frameHeight;\n",
    "\n",
    "        // Clear and draw on appropriate canvas\n",
    "        const currentCanvas = this.isChopped ? this.chopCanvas : this.idleCanvas;\n",
    "        const currentCtx = this.isChopped ? this.chopCtx : this.ctx;\n",
    "        \n",
    "        currentCtx.clearRect(0, 0, currentCanvas.width, currentCanvas.height);\n",
    "        currentCtx.drawImage(\n",
    "            this.spriteSheet,\n",
    "            frameX, frameY, frameWidth, frameHeight,\n",
    "            0, 0, currentCanvas.width, currentCanvas.height\n",
    "        );\n",
    "\n",
    "        // Update animation frame based on animation rate from sprite data\n",
    "        this.frameCounter++;\n",
    "        if (this.frameCounter >= this.spriteData.ANIMATION_RATE) {\n",
    "            if (this.isChopped) {\n",
    "                this.frameIndex = Math.min(this.frameIndex + 1, animationData.columns - 1);\n",
    "            } else {\n",
    "                this.frameIndex = (this.frameIndex + 1) % animationData.columns;\n",
    "            }\n",
    "            this.frameCounter = 0;\n",
    "        }\n",
    "    }\n",
    "}"
   ]
  },
  {
   "cell_type": "markdown",
   "metadata": {},
   "source": [
    "# Explanation\n",
    "\n",
    "The outer if statement checks if the frameCounter reached the animation rate: \"if (this.frameCounter >= this.spriteData.ANIMATION_RATE)\". The inner statement checks if the tree is chopped:(\"if (this.isChopped) {\n",
    "    this.frameIndex = Math.min(this.frameIndex + 1, animationData.columns - 1);\n",
    "} else {\n",
    "    this.frameIndex = (this.frameIndex + 1) % animationData.columns;\n",
    "})\""
   ]
  }
 ],
 "metadata": {
  "language_info": {
   "name": "python"
  }
 },
 "nbformat": 4,
 "nbformat_minor": 2
}
