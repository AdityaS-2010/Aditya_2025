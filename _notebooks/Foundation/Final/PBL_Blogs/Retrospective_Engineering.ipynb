{
 "cells": [
  {
   "cell_type": "raw",
   "metadata": {
    "vscode": {
     "languageId": "raw"
    }
   },
   "source": [
    "---\n",
    "comments: true\n",
    "layout: post\n",
    "title: Retrospective Engineering\n",
    "description: Demos, Feedback, Live Reviews, N@tM, Issues\n",
    "author: Aditya Srivastava\n",
    "permalink: /_notebooks/Foundation/Data_Types/\n",
    "categories: [PBL Data Types]\n",
    "---"
   ]
  },
  {
   "cell_type": "markdown",
   "metadata": {},
   "source": [
    "# Demos\n",
    "\n",
    "In CSSE, we made a lot of progress through the numerous amount of games we worked on, and demos were a great way of showcasing this. Through demos we could show people during N@tm, our peers, and Mr. Mortenson our hard work. These demos and checkpoints helped ensure we were making progress, along with explaining our work which I think could help us in the future"
   ]
  },
  {
   "cell_type": "markdown",
   "metadata": {},
   "source": [
    "# Live Reviews\n",
    "\n",
    "Live reviews is a feature in VSCode that allows coders to work together with other developers on a file. This feature helps programmers come to a similar understanding on where they are and what they're working on.\n",
    "\n",
    "Recently, we've been working a lot independently on our own games. This limited my personal use of live reviews, but for the times I used it, it helped a lot. Me and my peers got a much better understanding on what we wanted together as a group on the file we worked on."
   ]
  },
  {
   "cell_type": "markdown",
   "metadata": {},
   "source": [
    "# N@TM Reflection\n",
    "\n",
    "Night at the museum was a great experience and the showcase of projects worked on by CSSE, CSP, and CSA were super interesting. N@TM is a great way to showcase everyone's work and get to know each other. \n",
    "\n",
    "The feedback I recieved from everyone gave me a new perspective of my game and gave me ideas on how I could improve it. Also seeing the work of the more advanced classes showed me how much more we could do. \n",
    "\n",
    "Overall it's a great event but could definetely be organized a little better.\n",
    "\n",
    "[Here you can see the reviews](https://github.com/AdityaS-2010/Aditya_2025/issues/34)"
   ]
  },
  {
   "cell_type": "markdown",
   "metadata": {},
   "source": [
    "# Issues\n",
    "\n",
    "Issues are a feature in github that allows you to communicate ideas and share experiences/processes.\n",
    "\n",
    "I think issues were super useful in helping me organize my work. Some examples are the numerous amount of burndowns and checklists. These issues helped me stay on task and pace my self to complete tasks. They also gave me an idea on how much progress I made and how much more I need to complete."
   ]
  }
 ],
 "metadata": {
  "language_info": {
   "name": "python"
  }
 },
 "nbformat": 4,
 "nbformat_minor": 2
}
