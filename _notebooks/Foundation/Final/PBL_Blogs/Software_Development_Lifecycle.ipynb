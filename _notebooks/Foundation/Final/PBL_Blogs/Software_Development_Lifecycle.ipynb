{
 "cells": [
  {
   "cell_type": "raw",
   "metadata": {
    "vscode": {
     "languageId": "raw"
    }
   },
   "source": [
    "---\n",
    "comments: true\n",
    "layout: post\n",
    "title: Software Development Life Cycle\n",
    "description: Source control, forking, branching, building, testing and verification, pull requests, merging, deployment\n",
    "author: Aditya Srivastava\n",
    "permalink: /_notebooks/Foundation/Software_Development_Lifecycle/\n",
    "categories: [PBL Software Development Lifecycle]\n",
    "---"
   ]
  },
  {
   "cell_type": "markdown",
   "metadata": {},
   "source": [
    "## Source Control\n",
    "\n",
    "Source control, also known as version control, is a system that manages changes to a project's codebase over time. It allows multiple developers to collaborate on a project by tracking changes, maintaining a history of modifications, and enabling the ability to revert to previous versions.\n"
   ]
  },
  {
   "cell_type": "markdown",
   "metadata": {},
   "source": [
    "## Forking\n",
    "\n",
    "Forking is the process of creating a personal copy of someone else's repository. This is commonly used in open-source projects to allow developers to make changes to the codebase without affecting the original project. \n"
   ]
  },
  {
   "cell_type": "markdown",
   "metadata": {},
   "source": [
    "## Branching\n",
    "\n",
    "Branching is a feature of version control systems that allows developers to create separate lines of development within a repository. Branches enable developers to work on new features, bug fixes, or experiments in isolation from the main codebase. Once the work is complete, branches can be merged back into the main branch.\n",
    "\n"
   ]
  },
  {
   "cell_type": "markdown",
   "metadata": {},
   "source": [
    "## Building\n",
    "\n",
    "Building is the process of converting source code into executable code. This typically involves compiling the code, linking libraries, and generating binary files. The build process may also include tasks such as running automated tests, code analysis, and packaging the application for deployment.\n"
   ]
  },
  {
   "cell_type": "markdown",
   "metadata": {},
   "source": [
    "## Testing and Verification\n",
    "\n",
    "Testing and verification are processes used to ensure that the software behaves as expected and meets the specified requirements. This includes writing and running automated tests, such as unit tests, integration tests, and end-to-end tests. Verification ensures that the software is free of defects and performs correctly under various conditions.\n"
   ]
  },
  {
   "cell_type": "markdown",
   "metadata": {},
   "source": [
    "## Pull Requests\n",
    "\n",
    "A pull request is a mechanism for proposing changes to a codebase in a collaborative development environment. Developers create pull requests to submit their changes for review by other team members. The pull request process includes code review, discussion, and approval before the changes are merged into the main branch.\n",
    "\n"
   ]
  },
  {
   "cell_type": "markdown",
   "metadata": {},
   "source": [
    "## Merging\n",
    "\n",
    "Merging is the process of integrating changes from one branch into another. This is typically done after a pull request has been reviewed and approved. Merging combines the changes from the feature branch with the main branch, ensuring that the codebase remains up-to-date and consistent.\n"
   ]
  },
  {
   "cell_type": "markdown",
   "metadata": {},
   "source": [
    "## Deployment\n",
    "\n",
    "Deployment is the process of delivering a software application to its intended users. This involves transferring the application from the development environment to the production environment. Deployment can include tasks such as configuring servers, setting up databases, and ensuring that the application is accessible to users.\n"
   ]
  }
 ],
 "metadata": {
  "language_info": {
   "name": "python"
  }
 },
 "nbformat": 4,
 "nbformat_minor": 2
}
