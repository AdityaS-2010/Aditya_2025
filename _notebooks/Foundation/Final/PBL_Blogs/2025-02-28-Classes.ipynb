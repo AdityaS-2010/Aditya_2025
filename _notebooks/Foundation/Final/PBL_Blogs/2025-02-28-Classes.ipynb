{
 "cells": [
  {
   "cell_type": "code",
   "execution_count": null,
   "metadata": {
    "vscode": {
     "languageId": "yaml"
    }
   },
   "outputs": [],
   "source": [
    "---\n",
    "comments: true\n",
    "layout: post\n",
    "title: Classes\n",
    "description: Classes, Methods, Instantiate Objects, Use Objects to interact with data/methods, Call methods with parameters and handle return values, Implement basic inheritance for code reuse\n",
    "author: Aditya Srivastava\n",
    "permalink: /_notebooks/Foundation/Classes/\n",
    "categories: [PBL]\n",
    "---"
   ]
  },
  {
   "cell_type": "markdown",
   "metadata": {},
   "source": [
    "## Classes\n",
    "\n",
    "Classes are blueprints for creating objects. They encapsulate data for the object and methods to manipulate that data. In JavaScript, classes are defined using the `class` keyword.\n",
    "\n",
    "### Example:\n",
    "Here I wrote a new class for an interactive object which are Trees which were used in my jungle level:"
   ]
  },
  {
   "cell_type": "code",
   "execution_count": null,
   "metadata": {
    "vscode": {
     "languageId": "javascript"
    }
   },
   "outputs": [],
   "source": [
    "class Tree extends Character {\n",
    "    constructor(data) {\n",
    "        super(data);\n",
    "        \n",
    "        // Basic properties\n",
    "        this.isChopped = false;\n",
    "        this.frameIndex = 0;\n",
    "        this.frameCounter = 0;\n",
    "        this.spriteData = data;\n",
    "        \n",
    "        // Create two separate canvases - one for each animation\n",
    "        this.idleCanvas = this.canvas;\n",
    "        this.chopCanvas = document.createElement('canvas');\n",
    "        this.chopCtx = this.chopCanvas.getContext('2d');\n",
    "        \n",
    "        // Load sprite sheet\n",
    "        this.spriteSheet = new Image();\n",
    "        this.spriteSheet.src = data.src;\n",
    "        \n",
    "        // Set up canvases\n",
    "        this.spriteSheet.onload = () => {\n",
    "            const frameWidth = this.spriteData.pixels.width / this.spriteData.orientation.columns;\n",
    "            const frameHeight = this.spriteData.pixels.height / this.spriteData.orientation.rows;\n",
    "            \n",
    "            // Setup idle canvas\n",
    "            this.idleCanvas.width = frameWidth;\n",
    "            this.idleCanvas.height = frameHeight;\n",
    "            this.idleCanvas.style.width = `${this.width}px`;\n",
    "            this.idleCanvas.style.height = `${this.height}px`;\n",
    "            this.idleCanvas.style.position = 'absolute';\n",
    "            this.idleCanvas.style.left = `${this.position.x}px`;\n",
    "            this.idleCanvas.style.top = `${GameEnv.top + this.position.y}px`;\n",
    "            \n",
    "            // Setup chop canvas with same dimensions but initially hidden\n",
    "            this.chopCanvas.width = frameWidth;\n",
    "            this.chopCanvas.height = frameHeight;\n",
    "            this.chopCanvas.style.width = `${this.width}px`;\n",
    "            this.chopCanvas.style.height = `${this.height}px`;\n",
    "            this.chopCanvas.style.position = 'absolute';\n",
    "            this.chopCanvas.style.left = `${this.position.x}px`;\n",
    "            this.chopCanvas.style.top = `${GameEnv.top + this.position.y}px`;\n",
    "            this.chopCanvas.style.display = 'none';\n",
    "            \n",
    "            // Add chop canvas to the game container\n",
    "            const container = this.idleCanvas.parentNode;\n",
    "            if (container) {\n",
    "                container.appendChild(this.chopCanvas);\n",
    "            }\n",
    "            \n",
    "            // Add to game objects\n",
    "            if (!GameEnv.gameObjects.includes(this)) {\n",
    "                GameEnv.gameObjects.push(this);\n",
    "            }\n",
    "        };\n",
    "    }\n",
    "\n",
    "    // Handle tree chopping\n",
    "    chopTree() {\n",
    "        if (!this.isChopped) {\n",
    "            this.isChopped = true;\n",
    "            this.frameIndex = 0;\n",
    "            this.frameCounter = 0;\n",
    "            \n",
    "            // Hide idle canvas and show chop canvas\n",
    "            this.idleCanvas.style.display = 'none';\n",
    "            this.chopCanvas.style.display = 'block';\n",
    "        }\n",
    "    }\n",
    "\n",
    "    // Draw the tree\n",
    "    draw() {\n",
    "        if (this.spriteSheet && this.spriteSheet.complete) {\n",
    "            const frameWidth = this.spriteData.pixels.width / this.spriteData.orientation.columns;\n",
    "            const frameHeight = this.spriteData.pixels.height / this.spriteData.orientation.rows;\n",
    "\n",
    "            // Get animation data\n",
    "            const animationData = this.isChopped ? this.spriteData.chop : this.spriteData.idle;\n",
    "            \n",
    "            // Calculate position in sprite sheet\n",
    "            const frameX = (animationData.start + this.frameIndex) * frameWidth;\n",
    "            const frameY = animationData.row * frameHeight;\n",
    "\n",
    "            // Clear and draw on appropriate canvas\n",
    "            const currentCanvas = this.isChopped ? this.chopCanvas : this.idleCanvas;\n",
    "            const currentCtx = this.isChopped ? this.chopCtx : this.ctx;\n",
    "            \n",
    "            currentCtx.clearRect(0, 0, currentCanvas.width, currentCanvas.height);\n",
    "            currentCtx.drawImage(\n",
    "                this.spriteSheet,\n",
    "                frameX, frameY, frameWidth, frameHeight,\n",
    "                0, 0, currentCanvas.width, currentCanvas.height\n",
    "            );\n",
    "\n",
    "            // Update animation frame based on animation rate from sprite data\n",
    "            this.frameCounter++;\n",
    "            if (this.frameCounter >= this.spriteData.ANIMATION_RATE) {\n",
    "                if (this.isChopped) {\n",
    "                    this.frameIndex = Math.min(this.frameIndex + 1, animationData.columns - 1);\n",
    "                } else {\n",
    "                    this.frameIndex = (this.frameIndex + 1) % animationData.columns;\n",
    "                }\n",
    "                this.frameCounter = 0;\n",
    "            }\n",
    "        }\n",
    "    }\n",
    "\n",
    "    update() {\n",
    "        this.draw();\n",
    "    }\n",
    "}\n",
    "\n",
    "export default Tree;\n"
   ]
  },
  {
   "cell_type": "markdown",
   "metadata": {},
   "source": [
    "## Methods\n",
    "\n",
    "Methods are functions defined within a class. They describe the behaviors of the objects created from the class. Methods can manipulate the object's data and perform actions.\n",
    "\n",
    "### Example:\n",
    "Here I create a method to handle the player's idle animation when a key is not pressed"
   ]
  },
  {
   "cell_type": "code",
   "execution_count": null,
   "metadata": {
    "vscode": {
     "languageId": "javascript"
    }
   },
   "outputs": [],
   "source": [
    "handleIdleAnimation() {\n",
    "    // Update the idle frame index for animation at a slower rate\n",
    "    this.idleFrameCounter++;\n",
    "    if (this.idleFrameCounter % (this.animationRate * 1) === 0) { // Adjust the rate as needed\n",
    "        this.idleFrameIndex = (this.idleFrameIndex + 1) % this.spriteData.idle.columns;\n",
    "    }\n",
    "\n",
    "    // Draw the idle frame\n",
    "    const frameWidth = this.spriteData.pixels.width / this.spriteData.orientation.columns;\n",
    "    const frameHeight = this.spriteData.pixels.height / this.spriteData.orientation.rows;\n",
    "    const frameX = this.idleFrameIndex * frameWidth;\n",
    "    const frameY = this.spriteData.idle.row * frameHeight;\n",
    "\n",
    "    this.ctx.clearRect(0, 0, this.canvas.width, this.canvas.height);\n",
    "    this.ctx.drawImage(\n",
    "        this.spriteSheet,\n",
    "        frameX, frameY, frameWidth, frameHeight, // Source rectangle\n",
    "        0, 0, this.canvas.width, this.canvas.height // Destination rectangle\n",
    "    );\n",
    "}"
   ]
  },
  {
   "cell_type": "markdown",
   "metadata": {},
   "source": [
    "## Instantiate Objects\n",
    "\n",
    "To create an instance of a class, you use the `new` keyword followed by the class name and parentheses. This process is called instantiation.\n",
    "\n",
    "### Example:\n",
    "Here I create an array that stores instances of different gameobjects which is an demonstration of instantiating objects"
   ]
  },
  {
   "cell_type": "code",
   "execution_count": null,
   "metadata": {
    "vscode": {
     "languageId": "javascript"
    }
   },
   "outputs": [],
   "source": [
    "this.objects = [\n",
    "    { class: Background, data: image_data_jungle },\n",
    "    { class: Player, data: sprite_data_explorer },\n",
    "    { class: Npc, data: sprite_data_lumberjack },\n",
    "    { class: Tree, data: sprite_data_tree }\n",
    "];"
   ]
  },
  {
   "cell_type": "markdown",
   "metadata": {},
   "source": [
    "## Use Objects to Interact with Data/Methods\n",
    "\n",
    "Once you have instantiated an object, you can interact with its data and methods using dot notation. This allows you to access and modify the object's properties and call its methods.\n",
    "\n",
    "### Example:\n",
    "Below you can see two snippets, one is the data being stored in \"sprite_data_lumberjack\" , and it's properties being stored under a class (same snippest from above)"
   ]
  },
  {
   "cell_type": "code",
   "execution_count": null,
   "metadata": {
    "vscode": {
     "languageId": "javascript"
    }
   },
   "outputs": [],
   "source": [
    "const sprite_src_lumberjack = path + \"/images/gamify/lumberjack.png\";\n",
    "        const LUMBERJACK_SCALE_FACTOR = 2.8;\n",
    "        const sprite_data_lumberjack = {\n",
    "            id: 'Lumberjack',\n",
    "            greeting: \"Hi I am Lumberjack, I love chopping wood and exploring the jungle!\",\n",
    "            src: sprite_src_lumberjack,\n",
    "            SCALE_FACTOR: LUMBERJACK_SCALE_FACTOR,\n",
    "            STEP_FACTOR: 1000,\n",
    "            ANIMATION_RATE: 25,\n",
    "            INIT_POSITION: { x: (width / 2) - (348 / LUMBERJACK_SCALE_FACTOR), y: height - (height / LUMBERJACK_SCALE_FACTOR) },\n",
    "            pixels: { height: 348, width: 348 },\n",
    "            orientation: { rows: 6, columns: 6 },\n",
    "            idle: { row: 0, start: 0, columns: 4 },\n",
    "            down: { row: 0, start: 0, columns: 3 },\n",
    "            left: { row: 2, start: 0, columns: 6 },\n",
    "            right: { row: 2, start: 0, columns: 6 },\n",
    "            up: { row: 4, start: 0, columns: 6 },\n",
    "            hitbox: { widthPercentage: 0.45, heightPercentage: 0.2 },\n",
    "            keypress: { up: 87, left: 65, down: 83, right: 68 }, // W, A, S, D\n",
    "            quiz: {\n",
    "                title: \"What should I do?\",\n",
    "                questions: [\n",
    "                    \"Should I chop this tree?\\n1. Yes\\n2. No\",\n",
    "                ]\n",
    "            }"
   ]
  },
  {
   "cell_type": "code",
   "execution_count": null,
   "metadata": {
    "vscode": {
     "languageId": "javascript"
    }
   },
   "outputs": [],
   "source": [
    "this.objects = [\n",
    "    { class: Background, data: image_data_jungle },\n",
    "    { class: Player, data: sprite_data_explorer },\n",
    "    { class: Npc, data: sprite_data_lumberjack },\n",
    "    { class: Tree, data: sprite_data_tree }\n",
    "];"
   ]
  },
  {
   "cell_type": "markdown",
   "metadata": {},
   "source": [
    "## Call Methods with Parameters and Handle Return Values\n",
    "\n",
    "Methods can accept parameters and return values. Parameters allow you to pass data into the method, and return values allow the method to send data back to the caller.\n",
    "\n",
    "### Example:\n",
    "Here can you see the \"handleLumberjackQuiz\" method is called with a paramter which si the quiz question. The prompt function returns the player's input which is stored in the \"answer\" variable which is used to determine the next action"
   ]
  },
  {
   "cell_type": "code",
   "execution_count": null,
   "metadata": {
    "vscode": {
     "languageId": "javascript"
    }
   },
   "outputs": [],
   "source": [
    "const answer = prompt(`${lumberjack.data.quiz.title}\\n${question}`);\n",
    "if (answer === '1') {\n",
    "    // If the player answers \"1\", chop the tree\n",
    "    alert(\"The tree was chopped down!\");\n",
    "    tree.chopTree();  // Call chopTree on the actual tree instance\n",
    "} else if (answer === '2') {\n",
    "    // If the player answers \"2\", do not chop the tree\n",
    "    alert(\"The tree was not chopped down.\");\n",
    "} else {\n",
    "    // If the player provides an invalid response, show an error message\n",
    "    alert(\"Invalid response. Please answer with 1 or 2.\");\n",
    "}"
   ]
  },
  {
   "cell_type": "markdown",
   "metadata": {},
   "source": [
    "## Implement Basic Inheritance for Code Reuse\n",
    "\n",
    "Inheritance allows you to create a new class based on an existing class. The new class inherits the properties and methods of the existing class, allowing for code reuse and extension. In JavaScript, inheritance is implemented using the `extends` keyword.\n",
    "\n",
    "### Example:\n",
    "An example of inheritance being used is my Tree class, which inherits properties from an existing class (Character) to reuse it's code which simplifies the Tree.js file, making it easier to work with. Below is a snippet of the Tree class inheriting the Character class's property, and also a link to the a .drawio file displaying inheritance being used in the adventuregame\n",
    "\n",
    "[drawio file](https://github.com/AdityaS-2010/Aditya_2025/issues/35)"
   ]
  },
  {
   "cell_type": "code",
   "execution_count": null,
   "metadata": {
    "vscode": {
     "languageId": "javascript"
    }
   },
   "outputs": [],
   "source": [
    "class Tree extends Character "
   ]
  }
 ],
 "metadata": {
  "language_info": {
   "name": "python"
  }
 },
 "nbformat": 4,
 "nbformat_minor": 2
}
