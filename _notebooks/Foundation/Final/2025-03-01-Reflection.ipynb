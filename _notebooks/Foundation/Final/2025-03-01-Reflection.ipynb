{
 "cells": [
  {
   "cell_type": "code",
   "execution_count": null,
   "metadata": {
    "vscode": {
     "languageId": "yaml"
    }
   },
   "outputs": [],
   "source": [
    "---\n",
    "comments: true\n",
    "layout: post\n",
    "title: Game Reflection\n",
    "description: Reflection of my game\n",
    "author: Aditya Srivastava\n",
    "permalink: /_notebooks/Foundation/Final/Reflection\n",
    "categories: [Final]\n",
    "---"
   ]
  },
  {
   "cell_type": "markdown",
   "metadata": {},
   "source": [
    "# Reflection On Project\n",
    "\n",
    "With the limited time given, I haven't been able to complete everything I wanted. However I do have a plan. If I had more time I want to add the trees to all 3 levels along with some restrictions in each level. The idea is that you have to interact with an NPC and tell it to chop down the tree to exit the level, or else you will not be able to exit. My plan is to use logic from GameControl.js and edit it so that a certain condition has to be met to leave the levels. That condition being chopping down the tree. I think some strengths in the game is the Tree's versatility and the fact that it's as easy as pasting the code into another level and importing Tree.js to add this feature to another level. However there are some weaknesses such as how the tree is set up. Certain edits to Tree.js can lead to the whole level not working if it's imported into a level. Currently it only affects levels it's imported in."
   ]
  },
  {
   "cell_type": "markdown",
   "metadata": {},
   "source": [
    "# What I want to do in CompSci \n",
    "\n",
    "Computer Science is a ever growing industry and I want to part of it. Currently my goal is to join UCSD. UCSD is working in AI and advancing how the world uses AI. They have a new course and degree in AI Development which I think is a cool career which has room for a lot of growth. I think getting into it while it's still developing would be very useful for me in the future so I want to build my knowledge in computer science to be join this race in AI development. To get here I will take an additional CS course at a community college to strengthen my basics, along with enrolling my self in online competitive programming platforms to improve my problem solving. An example of these is [code forces](https://codeforces.com/)"
   ]
  },
  {
   "cell_type": "markdown",
   "metadata": {},
   "source": [
    "## Self Grade\n",
    "| Topic        | Points        | Explanation       |\n",
    "|--------------|---------------|---------------|\n",
    "| Eight Blogs  | 0.9        | I covered all the topics for each topic and provided examples for each one.|\n",
    "| RPG Progress |0.89 | All 3 features work, but there not that game changing and are very subtle |\n",
    "| 5 Things in 24 Weeks   |0.9  | I believe I picked 5 things that highlight my CS journey and transitioned well |\n",
    "|Draw IO + Latest game feature| 0.9              | My drawio diagram displays the connections between the files that work together to run the tree feature|\n",
    "| N@TM Feedback     | 0.89            | I got some good feedback from multiple people, but only 8 which is not as much as I wanted |\n",
    "|Reflections| 0.89| I covered all the surface level topics but it could definetely be more detailed and thorough | \n",
    "| Total         | 0.95  | Though everything was around 0.9, the extra stuff like my goal for my CS, my reflection on my game along with my thorough summary definetely brings up the total |\n"
   ]
  }
 ],
 "metadata": {
  "language_info": {
   "name": "python"
  }
 },
 "nbformat": 4,
 "nbformat_minor": 2
}
