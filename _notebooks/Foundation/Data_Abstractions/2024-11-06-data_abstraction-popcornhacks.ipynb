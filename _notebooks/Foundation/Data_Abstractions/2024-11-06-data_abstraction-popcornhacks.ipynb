{
 "cells": [
  {
   "cell_type": "code",
   "execution_count": null,
   "metadata": {
    "vscode": {
     "languageId": "yaml"
    }
   },
   "outputs": [],
   "source": [
    "---\n",
    "comments: True\n",
    "layout: post \n",
    "title: Data Abstraction Hacks\n",
    "description: An intro to data abstraction\n",
    "permalink: /csse/javascript/fundamentals/data-abstraction-hacks\n",
    "type: ccc\n",
    "author: Veera Kalakota, Santhosh Karthik, Akhil Kulkarni\n",
    "---"
   ]
  },
  {
   "cell_type": "markdown",
   "metadata": {},
   "source": [
    "# Popcorn Hack #1\n",
    "Create a child class of the class **Appliance**, and call it's name() function"
   ]
  },
  {
   "cell_type": "code",
   "execution_count": 19,
   "metadata": {
    "vscode": {
     "languageId": "javascript"
    }
   },
   "outputs": [
    {
     "data": {
      "application/javascript": "    class Appliance {\n        constructor(name) {\n            this.name = name;\n        }\n        name() {\n            return \"I am a \" + this.constructor.name + \" and my model is \" + this.name;\n        }\n    }\n    // Below this name the class and cause it to inherit from the Appliance class\n    class XXXX{\n        constructor(name) {\n            super(name);\n    }\n        \n    }\n",
      "text/plain": [
       "<IPython.core.display.Javascript object>"
      ]
     },
     "metadata": {},
     "output_type": "display_data"
    }
   ],
   "source": [
    "%%js\n",
    "    class Mercedes {\n",
    "        constructor(name) {\n",
    "            this.name = name;\n",
    "        }\n",
    "        returnname() {\n",
    "            return \"I am a \" + this.constructor.name + \" and my model is \" + this.name;\n",
    "        }\n",
    "    }\n",
    "    // Below this name the class and cause it to inherit from the Appliance class\n",
    "    class MercedesC63 extends Mercedes{\n",
    "        constructor(name) {\n",
    "            super(name);\n",
    "    }\n",
    "    }\n",
    "var Benz = new Mercedes('C63');\n",
    "console.log(Benz.returnname());"
   ]
  },
  {
   "cell_type": "markdown",
   "metadata": {},
   "source": [
    "### Popcorn Hack #2\n",
    "Create child classes of the product class with items, and add parameters depending on what it is. An example is provided of a bagel."
   ]
  },
  {
   "cell_type": "code",
   "execution_count": null,
   "metadata": {
    "vscode": {
     "languageId": "javascript"
    }
   },
   "outputs": [
    {
     "data": {
      "application/javascript": "    class Product{\n        constructor(price,size,taxRate) {\n            this.price = price;\n            this.size = size;\n            this.taxRate = taxRate;\n        }   \n        getPrice() {\n            return this.price + this.taxRate * this.price;\n        }\n        product(){\n            const className = this.constructor.name.toLowerCase();\n            // Does not use and assuming that more parameteres will be added\n            return \"You are ordering a \" + className + \" with a price of \" + this.getPrice() + \" dollars, a size of \" + this.size;\n        }\n    }\n    class Bagel extends Product{\n        constructor(price, size, taxRate, flavor) {\n            super(price, size, taxRate);\n            this.flavor = flavor;\n        }\n        getPrice(){\n            return super.getPrice() * this.size;\n        }\n        product(){\n            return super.product() + \" and a flavor of \" + this.flavor;\n        }\n    }\nvar sesameBagel = new Bagel(1.5, 2, 0.07, \"sesame\");\nconsole.log(sesameBagel.product());\n",
      "text/plain": [
       "<IPython.core.display.Javascript object>"
      ]
     },
     "metadata": {},
     "output_type": "display_data"
    }
   ],
   "source": [
    "%%js\n",
    "    class Product{\n",
    "        constructor(price,size,taxRate) {\n",
    "            this.price = price;\n",
    "            this.size = size;\n",
    "            this.taxRate = taxRate;\n",
    "        }   \n",
    "        getPrice() {\n",
    "            return this.price + this.taxRate * this.price;\n",
    "        }\n",
    "        product(){\n",
    "            const className = this.constructor.name.toLowerCase();\n",
    "            return \"You are ordering a \" + className + \" with a price of \" + this.getPrice() + \" dollars, a size of \" + this.size;\n",
    "        }\n",
    "    }\n",
    "    class Bagel extends Product{\n",
    "        constructor(price, size, taxRate, flavor) {\n",
    "            super(price, size, taxRate);\n",
    "            this.flavor = flavor;\n",
    "        }\n",
    "        getPrice(){\n",
    "            return super.getPrice() * this.size;\n",
    "        }\n",
    "        product(){\n",
    "            return super.product() + \" and a flavor of \" + this.flavor;\n",
    "        }\n",
    "    }\n",
    "var sesameBagel = new Bagel(1.5, 2, 0.07, \"sesame\");\n",
    "console.log(sesameBagel.product());"
   ]
  },
  {
   "cell_type": "code",
   "execution_count": null,
   "metadata": {
    "vscode": {
     "languageId": "javascript"
    }
   },
   "outputs": [],
   "source": [
    "class Product {\n",
    "    constructor(price, size, taxRate) {\n",
    "        this.price = price;\n",
    "        this.size = size;\n",
    "        this.taxRate = taxRate;\n",
    "    }\n",
    "    getPrice() {\n",
    "        return this.price + this.taxRate * this.price;\n",
    "    }\n",
    "    product() {\n",
    "        const className = this.constructor.name.toLowerCase();\n",
    "        return \"You are ordering a \" + className + \" with a price of \" + this.getPrice() + \" dollars, a size of \" + this.size;\n",
    "    }\n",
    "}\n",
    "\n",
    "class Car extends Product {\n",
    "    constructor(price, size, taxRate, brand, model, horsepower) {\n",
    "        super(price, size, taxRate);\n",
    "        this.brand = brand;\n",
    "        this.model = model;\n",
    "        this.horsepower = horsepower;\n",
    "    }\n",
    "    product() {\n",
    "        return super.product() + \", brand: \" + this.brand + \", model: \" + this.model + \" with \" + this.horsepower + \" horsepower\";\n",
    "    }\n",
    "}\n",
    "\n",
    "class MercedesC63AMG extends Car {\n",
    "    constructor(price, size, taxRate, horsepower) {\n",
    "        super(price, size, taxRate, \"Mercedes\", \"C63 AMG\", horsepower);\n",
    "    }\n",
    "    // You can override methods or add more specific ones here\n",
    "}\n",
    "\n",
    "var mercedesC63 = new MercedesC63AMG(70000, \"medium\", 0.10, 503);\n",
    "console.log(mercedesC63.product());\n"
   ]
  }
 ],
 "metadata": {
  "kernelspec": {
   "display_name": "venv",
   "language": "python",
   "name": "python3"
  },
  "language_info": {
   "codemirror_mode": {
    "name": "ipython",
    "version": 3
   },
   "file_extension": ".py",
   "mimetype": "text/x-python",
   "name": "python",
   "nbconvert_exporter": "python",
   "pygments_lexer": "ipython3",
   "version": "3.12.6"
  }
 },
 "nbformat": 4,
 "nbformat_minor": 2
}
