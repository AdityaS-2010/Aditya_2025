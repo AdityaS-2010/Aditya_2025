{
 "cells": [
  {
   "cell_type": "raw",
   "metadata": {
    "vscode": {
     "languageId": "raw"
    }
   },
   "source": [
    "---\n",
    "comments: True\n",
    "layout: post\n",
    "title: conditionals lesson hacks\n",
    "description: conditionals hacks\n",
    "permalink: /csse/javascript/fundamentals/conditionals/hacks\n",
    "type: ccc\n",
    "---"
   ]
  },
  {
   "cell_type": "markdown",
   "metadata": {},
   "source": [
    "#### <span style=\"color: #ADD8E6; text-shadow: 3px 3px 8px #4682B4; font-weight: bold; font-size: 2em;\">Popcorn Hacks:</span>\n",
    "Develop a basic combat system that allows characters to engage in battles with enemies. This will help you practice using functions, conditionals, and basic game mechanics in JavaScript.\n",
    "\n",
    "---\n",
    "##### <span style=\"color: #FF6347; text-shadow: 2px 2px 6px #8B0000; font-weight: bold; font-size: 1.5em;\">Popcorn Hack Part 1 - 1: Using <code>initializeData</code> Function</span> \n",
    "\n",
    "1. Add `speed` to the <code>initializeData(data = null)</code> function and give it a default value.\n",
    "2. Add `seed` to the HTML output.\n",
    "3. Add `speed` to the JSON data.\n",
    "4. Test calling <code>initializeData</code> with no argument, and then using a `data` JSON object as an argument.\n",
    "\n",
    "##### <span style=\"color: #FF6347; text-shadow: 2px 2px 6px #8B0000; font-weight: bold; font-size: 1.5em;\">Popcorn Hack Part 1 - 2: Adding IJKL Key Conditions in <code>handleKeyDown</code></span> \n",
    "\n",
    "1. Add a `case` statement for each of the IJKL keys in the `handleKeyDown({ keyCode })` switch statement.\n",
    "2. Send the key code for each IJKL key to the <code>gameObject.handleKeyDown</code> method.\n",
    "3. Use <code>console.log()</code> to output `gameObject`.\n",
    "\n",
    "---\n",
    "\n",
    "##### <span style=\"color: #FF6347; text-shadow: 2px 2px 6px #8B0000; font-weight: bold; font-size: 1.5em;\">Popcorn Hack 2: Creating a Simple Attack System</span>\n",
    "1. Add a <code>boolean</code> variable named <code>canAttack</code>, and set it to <code>false</code>.\n",
    "2. Use an <code>if</code> statement to check if the player can attack.\n",
    "3. If <code>canAttack</code> is <code>false</code>, output \"Can't attack.\"\n",
    "4. Use <code>Math.random()</code> to determine if the player is allowed to attack. (Tip: Use ChatGPT for help with <code>Math.random()</code> if needed!)\n",
    "5. This will pick a random number to decide if the attack can happen.\n",
    "6. Use <code>console.log()</code> for all outputs.\n",
    "\n",
    "---\n",
    "\n",
    "##### <span style=\"color: #FF6347; text-shadow: 2px 2px 6px #8B0000; font-weight: bold; font-size: 1.5em;\">Popcorn Hack 3: Level Requirement Check</span>\n",
    "1. Use the <code>ternary operator</code> to create an output if the player meets the level requirements.\n",
    "2. If not, output a message telling the player they are under-leveled.\n",
    "3. Use <code>console.log()</code> to print your output."
   ]
  },
  {
   "cell_type": "markdown",
   "metadata": {},
   "source": [
    "### Hack 1-1"
   ]
  },
  {
   "cell_type": "code",
   "execution_count": null,
   "metadata": {
    "vscode": {
     "languageId": "html"
    }
   },
   "outputs": [],
   "source": [
    "%%html\n",
    "<div id=\"speedOutput\"></div>\n",
    "<script>\n",
    "function initializeData(data = null) {\n",
    "    // Set a default value for speed if it's not provided in data\n",
    "    const defaultSpeed = 1;\n",
    "    const initializedData = {\n",
    "        speed: data?.speed || defaultSpeed // Use the provided speed or default value\n",
    "    };\n",
    "    // Add to HTML output\n",
    "    document.getElementById('speedOutput').textContent = Speed: ${initializedData.speed};\n",
    "    // Output the JSON data to the console for testing\n",
    "    console.log(JSON.stringify(initializedData, null, 2));\n",
    "    return initializedData; // Return the initialized data object\n",
    "}\n",
    "// Test cases\n",
    "initializeData(); // Call with no arguments to test default speed\n",
    "initializeData({ speed: 5 }); // Call with a data JSON object as an argument\n",
    "</script>\n",
    "\n"
   ]
  },
  {
   "cell_type": "markdown",
   "metadata": {},
   "source": [
    "### Hack 1-2"
   ]
  },
  {
   "cell_type": "code",
   "execution_count": null,
   "metadata": {
    "vscode": {
     "languageId": "javascript"
    }
   },
   "outputs": [
    {
     "data": {
      "application/javascript": "// Add an event listener to the document\ndocument.addEventListener(\"keydown\", handleKeyDown);\nfunction handleKeyDown({ keyCode }) {\n    const gameObject = {\n        handleKeyDown: function (code) {\n            console.log(Key pressed with code: ${code});\n        }\n    };\n    // Switch statement to handle specific key codes\n    switch (keyCode) {\n        case 73: // I key\n            gameObject.handleKeyDown(keyCode);\n            break;\n        case 74: // J key\n            gameObject.handleKeyDown(keyCode);\n            break;\n        case 75: // K key\n            gameObject.handleKeyDown(keyCode);\n            break;\n        case 76: // L key\n            gameObject.handleKeyDown(keyCode);\n            break;\n        default:\n            console.log(\"Other key pressed\");\n    }\n    // Log the gameObject to the console\n    console.log(gameObject);\n}\n",
      "text/plain": [
       "<IPython.core.display.Javascript object>"
      ]
     },
     "metadata": {},
     "output_type": "display_data"
    }
   ],
   "source": [
    "%%javascript\n",
    "// Listens for speceific event to trigger function\n",
    "document.addEventListener(\"keydown\", handleKeyDown);\n",
    "function handleKeyDown({ keyCode }) {\n",
    "    const gameObject = {\n",
    "        handleKeyDown: function (code) {\n",
    "            console.log(Key pressed with code: ${code});\n",
    "        }\n",
    "    };\n",
    "    // Tell it to handle keycodes\n",
    "    switch (keyCode) {\n",
    "        case 73: // I key\n",
    "            gameObject.handleKeyDown(keyCode);\n",
    "            break;\n",
    "        case 74: // J key\n",
    "            gameObject.handleKeyDown(keyCode);\n",
    "            break;\n",
    "        case 75: // K key\n",
    "            gameObject.handleKeyDown(keyCode);\n",
    "            break;\n",
    "        case 76: // L key\n",
    "            gameObject.handleKeyDown(keyCode);\n",
    "            break;\n",
    "        default:\n",
    "            console.log(\"Other key pressed\");\n",
    "    }\n",
    "    // Log the gameObject to the console\n",
    "    console.log(gameObject);\n",
    "}"
   ]
  },
  {
   "cell_type": "markdown",
   "metadata": {},
   "source": [
    "### Hack 2"
   ]
  },
  {
   "cell_type": "code",
   "execution_count": null,
   "metadata": {
    "vscode": {
     "languageId": "javascript"
    }
   },
   "outputs": [
    {
     "data": {
      "application/javascript": "// Define the game object\nconst gameObject = {\n    canAttack: false, // Boolean variable to determine if the player can attack\n    // Method to check if the player can attack\n    checkAttack: function () {\n        // Generate a random number between 0 and 1\n        const randomValue = Math.random();\n        // Use the random value to determine if the player can attack\n        if (randomValue < 0.5) { // Change the threshold as needed\n            this.canAttack = true; // Player can attack if randomValue is less than 0.5\n        } else {\n            this.canAttack = false; // Player cannot attack\n        }\n        // Check if the player can attack\n        if (this.canAttack) {\n            console.log(\"Player can attack.\");\n        } else {\n            console.log(\"Can't attack.\");\n        }\n        // Output the random value for debugging\n        console.log(`Random value: ${randomValue}`);\n    }\n};\n// Call the checkAttack method to determine if the player can attack\ngameObject.checkAttack();\n",
      "text/plain": [
       "<IPython.core.display.Javascript object>"
      ]
     },
     "metadata": {},
     "output_type": "display_data"
    }
   ],
   "source": [
    "%%javascript\n",
    "\n",
    "const gameObject = {\n",
    "    canAttack: false, // Boolean variable \n",
    "    // check if the player can attack\n",
    "    checkAttack: function () {\n",
    "        // generate a random number between 0 and 1\n",
    "        const randomValue = Math.random();\n",
    "        // Use the random value to determine if the player can attack\n",
    "        if (randomValue < 0.5) { // if value is less than 0.5 then attack is true\n",
    "            this.canAttack = true; \n",
    "        } else {\n",
    "            this.canAttack = false; // Player cannot attack if number greater than 0.6\n",
    "        }\n",
    "        // Check if the player can attack\n",
    "        if (this.canAttack) {\n",
    "            console.log(\"Player can attack.\");\n",
    "        } else {\n",
    "            console.log(\"Can't attack.\");\n",
    "        }\n",
    "        // Output the random value for debugging\n",
    "        console.log(`Random value: ${randomValue}`);\n",
    "    }\n",
    "};\n",
    "// Call the checkAttack method to determine if the player can attack\n",
    "gameObject.checkAttack();"
   ]
  },
  {
   "cell_type": "markdown",
   "metadata": {},
   "source": [
    "### Hack 3"
   ]
  },
  {
   "cell_type": "code",
   "execution_count": 22,
   "metadata": {
    "vscode": {
     "languageId": "javascript"
    }
   },
   "outputs": [
    {
     "data": {
      "application/javascript": "\nconst gameObject = {\n    playerLevel: 9, // player level, you can change this to any number to get a different output :) \n    requiredLevel: 10, // Example required level\n    //check if meets level requirement\n    checkLevelRequirements: function () {\n        // Use the ternary operator\n        const message = this.playerLevel >= this.requiredLevel\n            ? \"Congratulations! You meet the level requirements.\"\n            : \"You are under-leveled. Level up to continue.\";\n        \n        console.log(message);\n    }\n};\n// Call the checkLevelRequirements method to check the player's level\ngameObject.checkLevelRequirements();\n",
      "text/plain": [
       "<IPython.core.display.Javascript object>"
      ]
     },
     "metadata": {},
     "output_type": "display_data"
    }
   ],
   "source": [
    "%%javascript\n",
    "\n",
    "const gameObject = {\n",
    "    playerLevel: 9, // player level, you can change this to any number to get a different output :) \n",
    "    requiredLevel: 10, // Example required level\n",
    "    //check if meets level requirement\n",
    "    checkLevelRequirements: function () {\n",
    "        // Use the ternary operator\n",
    "        const message = this.playerLevel >= this.requiredLevel\n",
    "            ? \"Congratulations! You meet the level requirements.\"\n",
    "            : \"You are under-leveled. Level up to continue.\";\n",
    "        \n",
    "        console.log(message);\n",
    "    }\n",
    "};\n",
    "// Call the checkLevelRequirements method to check the player's level\n",
    "gameObject.checkLevelRequirements();"
   ]
  },
  {
   "cell_type": "markdown",
   "metadata": {},
   "source": [
    "<!-- Homework Section with Enhanced Glowing Title -->\n",
    "\n",
    "### <span style=\"color: #78C0E0; text-shadow: 0 0 10px #1E3D59, 0 0 20px #1E3D59; font-weight: bold; font-size: 2em;\">Homework:</span>\n",
    "\n",
    "#### <span style=\"color: #FFA07A; text-shadow: 0 0 8px #3C3C3C, 0 0 15px #3C3C3C; font-weight: bold; font-size: 1.5em;\">Objectives</span>\n",
    "\n",
    "<span style=\"font-size: 1.2em; color: #E5E5E5; line-height: 1.8;\">\n",
    "  <br><strong style=\"color: #FFD700;\">Option 1:</strong> <span style=\"color: #C0C0C0;\">Create a simple combat system.</span>\n",
    "  <ul style=\"color: #D3D3D3; margin-left: 20px; list-style-type: circle;\">\n",
    "    <li>Allow characters to fight enemies.</li>\n",
    "    <li>Use basic functions and conditionals in JavaScript.</li>\n",
    "    <li>Focus on making it easy to understand how battles work.</li>\n",
    "  </ul>\n",
    "\n",
    "  <br>\n",
    "  <strong style=\"color: #FFD700;\">Option 2:</strong> <span style=\"color: #C0C0C0;\">Make a dialogue system for your NPC (Non-Player Character).</span>\n",
    "  <ul style=\"color: #D3D3D3; margin-left: 20px; list-style-type: circle;\">\n",
    "    <li>Use the <code style=\"color: #7FFFD4;\">prompt()</code> function to ask the player for a response (choose a number from 1 to 4).</li>\n",
    "    <li>This dialogue should appear when the player gets close to the NPC and presses a button.</li>\n",
    "  </ul>\n",
    "</span>\n",
    "\n",
    "### <span style=\"color: #FFA07A; text-shadow: 1px 1px 6px #3C3C3C; font-weight: bold;\">Additional Tips:</span>\n",
    "- <span style=\"color: #FFD700;\">**For Option 1:**</span>\n",
    "  <ul style=\"color: #D3D3D3; margin-left: 20px; list-style-type: square;\">\n",
    "    <li>Start by writing down what the characters and enemies will be. Create simple names and attributes (like health).</li>\n",
    "    <li>Use <code style=\"color: #7FFFD4;\">console.log()</code> to print out what's happening at each step. This will help you understand the flow of your code.</li>\n",
    "    <li>Look for example code online to see how others have created combat systems. Don't be afraid to borrow ideas!</li>\n",
    "  </ul>\n",
    "\n",
    "- <span style=\"color: #FFD700;\">**For Option 2:**</span>\n",
    "  <ul style=\"color: #D3D3D3; margin-left: 20px; list-style-type: square;\">\n",
    "    <li>Plan out the dialogue options before you start coding. Write them down in a list.</li>\n",
    "    <li>Use comments in your code to remind yourself what each part does. For example, <code style=\"color: #7FFFD4;\">// Ask the player for a response</code>.</li>\n",
    "    <li>Test your code frequently. After writing a few lines, run it to see if it works before adding more.</li>\n",
    "  </ul>"
   ]
  },
  {
   "cell_type": "markdown",
   "metadata": {},
   "source": [
    "### Homework"
   ]
  },
  {
   "cell_type": "code",
   "execution_count": 25,
   "metadata": {
    "vscode": {
     "languageId": "javascript"
    }
   },
   "outputs": [
    {
     "data": {
      "application/javascript": "// Define a character class\nclass Character {\n    constructor(Aditya, health, attackPower) {\n        this.name = Aditya; // define the character name\n        this.health = health; // how much health\n        this.attackPower = attackPower; // damage per attack\n    }\n    // how attack other enemy\n    attack(enemy) {\n        console.log(`${this.name} attacks ${enemy.name} for ${this.attackPower} damage!`);\n        enemy.takeDamage(this.attackPower);\n    }\n    // taking damage\n    takeDamage(damage) {\n        this.health -= damage; // Reduce health by damage amount\n        console.log(`${this.name} has ${this.health} health remaining.`);\n    }\n    // Check if the character is still alive\n    isAlive() {\n        return this.health > 0;\n    }\n}\n// create the character, and enemy\nconst player = new Character('Aditya', 100, 20);\nconst enemy = new Character('Monster', 50, 15);\n// function using if else\nfunction combat() {\n    while (player.isAlive() && enemy.isAlive()) {\n        player.attack(enemy); // Player attacks enemy\n        \n        if (enemy.isAlive()) {\n            enemy.attack(player); // Enemy attacks player\n        } else {\n            console.log(`${enemy.name} has been defeated!`);\n            break; // End combat if enemy is defeated\n        }\n    }\n    // Check if the player is alive after the combat\n    if (!player.isAlive()) {\n        console.log(`${player.name} has been defeated! Game Over.`);\n    }\n}\n// Start the combat\ncombat();\n",
      "text/plain": [
       "<IPython.core.display.Javascript object>"
      ]
     },
     "metadata": {},
     "output_type": "display_data"
    }
   ],
   "source": [
    "%%javascript\n",
    "// Define a character class\n",
    "class Character {\n",
    "    constructor(Aditya, health, attackPower) {\n",
    "        this.name = Aditya; // define the character name\n",
    "        this.health = health; // how much health\n",
    "        this.attackPower = attackPower; // damage per attack\n",
    "    }\n",
    "    // how attack other enemy\n",
    "    attack(enemy) {\n",
    "        console.log(`${this.name} attacks ${enemy.name} for ${this.attackPower} damage!`);\n",
    "        enemy.takeDamage(this.attackPower);\n",
    "    }\n",
    "    // taking damage\n",
    "    takeDamage(damage) {\n",
    "        this.health -= damage; // Reduce health by damage amount\n",
    "        console.log(`${this.name} has ${this.health} health remaining.`);\n",
    "    }\n",
    "    // Check if the character is still alive\n",
    "    isAlive() {\n",
    "        return this.health > 0;\n",
    "    }\n",
    "}\n",
    "// create the character, and enemy\n",
    "const player = new Character('Aditya', 100, 20);\n",
    "const enemy = new Character('Monster', 50, 15);\n",
    "// function using if else\n",
    "function combat() {\n",
    "    while (player.isAlive() && enemy.isAlive()) {\n",
    "        player.attack(enemy); // Player attacks enemy\n",
    "        \n",
    "        if (enemy.isAlive()) {\n",
    "            enemy.attack(player); // Enemy attacks player\n",
    "        } else {\n",
    "            console.log(`${enemy.name} has been defeated!`);\n",
    "            break; // End combat if enemy is defeated\n",
    "        }\n",
    "    }\n",
    "    // Check if the player is alive after the combat\n",
    "    if (!player.isAlive()) {\n",
    "        console.log(`${player.name} has been defeated! Game Over.`);\n",
    "    }\n",
    "}\n",
    "// Start the combat\n",
    "combat();"
   ]
  }
 ],
 "metadata": {
  "kernelspec": {
   "display_name": "venv",
   "language": "python",
   "name": "python3"
  },
  "language_info": {
   "codemirror_mode": {
    "name": "ipython",
    "version": 3
   },
   "file_extension": ".py",
   "mimetype": "text/x-python",
   "name": "python",
   "nbconvert_exporter": "python",
   "pygments_lexer": "ipython3",
   "version": "3.10.12"
  }
 },
 "nbformat": 4,
 "nbformat_minor": 2
}
