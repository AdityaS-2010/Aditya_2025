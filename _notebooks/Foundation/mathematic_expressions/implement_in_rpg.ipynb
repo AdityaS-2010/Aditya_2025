{
 "cells": [
  {
   "cell_type": "markdown",
   "metadata": {},
   "source": [
    "## How can we implement this into our game?\n",
    "We can use this to interact with npcs in our game, such as a monster that you are attacking. Here is an example where the main character attack the npc:\n",
    "```javascript\n",
    "let mainCharacterHealth = 100;\n",
    "let npcHealth = 80;\n",
    "// Main character attacks NPC\n",
    "let attackDamage = 15;\n",
    "npcHealth -= attackDamage;  // Subtract damage from NPC's health\n",
    "console.log(\"NPC Health: \" + npcHealth);  // Output: NPC Health: 65\n",
    "// NPC counter-attacks the main character\n",
    "let npcAttackDamage = 12;\n",
    "mainCharacterHealth -= npcAttackDamage;  // Subtract damage from main character's health\n",
    "console.log(\"Main Character Health: \" + mainCharacterHealth);  // Output: Main Character Health: 88"
   ]
  },
  {
   "cell_type": "markdown",
   "metadata": {},
   "source": [
    "## Popcorn Hack Two \n",
    "When the button is clicked, a monster is attacked. However it doesn't deal damage to the monster's health. Fill in the missing lines to deal damage to the monster:"
   ]
  }
 ],
 "metadata": {
  "language_info": {
   "name": "python"
  }
 },
 "nbformat": 4,
 "nbformat_minor": 2
}
